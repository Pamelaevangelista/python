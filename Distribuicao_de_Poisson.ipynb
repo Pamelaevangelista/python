{
  "nbformat": 4,
  "nbformat_minor": 0,
  "metadata": {
    "colab": {
      "provenance": [],
      "authorship_tag": "ABX9TyNCu/ZmufGtPhlu6fzqu9CM",
      "include_colab_link": true
    },
    "kernelspec": {
      "name": "python3",
      "display_name": "Python 3"
    },
    "language_info": {
      "name": "python"
    }
  },
  "cells": [
    {
      "cell_type": "markdown",
      "metadata": {
        "id": "view-in-github",
        "colab_type": "text"
      },
      "source": [
        "<a href=\"https://colab.research.google.com/github/Pamelaevangelista/python/blob/main/Distribuicao_de_Poisson.ipynb\" target=\"_parent\"><img src=\"https://colab.research.google.com/assets/colab-badge.svg\" alt=\"Open In Colab\"/></a>"
      ]
    },
    {
      "cell_type": "markdown",
      "source": [
        "Distribuição de Poisson : verifica eventos que ocorrem em um intervalo de tempo ou espaço fixo. Descreve a probabilidade de ocorrer um determinado número de eventos por Período."
      ],
      "metadata": {
        "id": "A3c8ey1Z7jNT"
      }
    },
    {
      "cell_type": "code",
      "source": [
        "'''Quando usar:\n",
        "*Contagem de eventos raros\n",
        "*Intervalos fixos de tempo\n",
        "*Taxa média de ocorrência do evento é conhecida e constante'''"
      ],
      "metadata": {
        "id": "Zp6imWuU8BHH"
      },
      "execution_count": null,
      "outputs": []
    },
    {
      "cell_type": "code",
      "source": [
        "#instalar biblioteca\n",
        "from scipy.stats import poisson\n",
        "import scipy.stats as sp\n",
        "\n",
        "#Qual a probabilidade de uma loja vender 5 maçãs em um dia, se a média diária é 3?\n",
        "#poisson.cdf(k, lambda)\n",
        "#k = sucesso\n",
        "#lambda = média / variância"
      ],
      "metadata": {
        "id": "wlOQM0Eq8SpI"
      },
      "execution_count": 6,
      "outputs": []
    },
    {
      "cell_type": "code",
      "source": [
        "'''Imagine que a chegada de pessoas em um determinado caixa eletrônico obedece uma\n",
        "distribuição de poisson com taxa média de chegada de 12 pessoas por hora. calcule:\n",
        "\n",
        "a)A probabilidade de que em uma hora qualquer cheguem 4 pessoas'''\n",
        "\n",
        "k = 4\n",
        "l = 12\n",
        "sp.poisson.pmf(k, l)"
      ],
      "metadata": {
        "colab": {
          "base_uri": "https://localhost:8080/"
        },
        "id": "eNA57oQV9r1s",
        "outputId": "f0fb1c06-1daf-4682-918c-f072a308b685"
      },
      "execution_count": 7,
      "outputs": [
        {
          "output_type": "execute_result",
          "data": {
            "text/plain": [
              "np.float64(0.005308599473275576)"
            ]
          },
          "metadata": {},
          "execution_count": 7
        }
      ]
    },
    {
      "cell_type": "code",
      "source": [
        "#b)A probabilidade de que uma hora qualquer cheguem 7 pessoas\n",
        "#k<=7\n",
        "k = 7\n",
        "l = 12\n",
        "sp.poisson.pmf(k, l)"
      ],
      "metadata": {
        "colab": {
          "base_uri": "https://localhost:8080/"
        },
        "id": "RdWPH7WT_F0L",
        "outputId": "651957e0-eb8e-4600-c2e1-d74169710210"
      },
      "execution_count": 8,
      "outputs": [
        {
          "output_type": "execute_result",
          "data": {
            "text/plain": [
              "np.float64(0.043682189951524654)"
            ]
          },
          "metadata": {},
          "execution_count": 8
        }
      ]
    },
    {
      "cell_type": "code",
      "source": [
        "#C)A probabilidade de que em uma hora qualquer cheguem 7 clientes ou menos\n",
        "#k>=7\n",
        "k = 6\n",
        "l = 12\n",
        "1- sp.poisson.cdf(k, l)"
      ],
      "metadata": {
        "colab": {
          "base_uri": "https://localhost:8080/"
        },
        "id": "v5tKqobjBdYP",
        "outputId": "12d8ff17-7d38-4ddf-c100-43e2951fcb9b"
      },
      "execution_count": 10,
      "outputs": [
        {
          "output_type": "execute_result",
          "data": {
            "text/plain": [
              "np.float64(0.9541776931113489)"
            ]
          },
          "metadata": {},
          "execution_count": 10
        }
      ]
    },
    {
      "cell_type": "code",
      "source": [
        "#d)A probabilidade de que em uma hora qualquer cheguem menos de 7 clientes\n",
        "#k<7\n",
        "sp.poisson.cdf(6, 12)"
      ],
      "metadata": {
        "colab": {
          "base_uri": "https://localhost:8080/"
        },
        "id": "vrLsmvVeCe05",
        "outputId": "8314af7c-360f-4870-ef54-7cbcec8731b7"
      },
      "execution_count": 11,
      "outputs": [
        {
          "output_type": "execute_result",
          "data": {
            "text/plain": [
              "np.float64(0.04582230688865106)"
            ]
          },
          "metadata": {},
          "execution_count": 11
        }
      ]
    },
    {
      "cell_type": "code",
      "source": [
        "#e)A probabilidade de que em uma hora qualquer cheguem 7 clientes ou mais\n",
        "#k>=7\n",
        "1- sp.poisson.cdf(6, 12)"
      ],
      "metadata": {
        "colab": {
          "base_uri": "https://localhost:8080/"
        },
        "id": "Klh6-fHaEWxr",
        "outputId": "dbba95eb-5d49-4dc2-bfba-e93e5b989957"
      },
      "execution_count": 12,
      "outputs": [
        {
          "output_type": "execute_result",
          "data": {
            "text/plain": [
              "np.float64(0.9541776931113489)"
            ]
          },
          "metadata": {},
          "execution_count": 12
        }
      ]
    },
    {
      "cell_type": "code",
      "source": [
        "#f)A probabilidade de que em uma hora qualquer cheguem mais de 7 clientes\n",
        "#k >7\n",
        "1- sp.poisson.cdf(7, 12)"
      ],
      "metadata": {
        "colab": {
          "base_uri": "https://localhost:8080/"
        },
        "id": "AAW4o1ylEolK",
        "outputId": "89cba287-1448-44a2-bf52-c376ec5e156c"
      },
      "execution_count": 14,
      "outputs": [
        {
          "output_type": "execute_result",
          "data": {
            "text/plain": [
              "np.float64(0.9104955031598242)"
            ]
          },
          "metadata": {},
          "execution_count": 14
        }
      ]
    },
    {
      "cell_type": "code",
      "source": [
        "#g)A probabilidade de que em uma hora qualquer cheguem entre 7 e 9 clientes\n",
        "l= 12\n",
        "probabilidade_total = 0\n",
        "\n",
        "for k in range (7, 10):\n",
        "  probabilidade = poisson.pmf(k, l)\n",
        "  probabilidade_total += probabilidade\n",
        "  print(f'P(x)= {k}= {probabilidade:.4f}')\n",
        "  print(f'Probabilidade toral (7 <= x <= 9): {probabilidade_total:.4f} ou {probabilidade_total*100:.4f}%')"
      ],
      "metadata": {
        "colab": {
          "base_uri": "https://localhost:8080/"
        },
        "id": "C4LzsMQ6FHFP",
        "outputId": "02503b50-c767-4d7f-e6d8-3539a19acf7e"
      },
      "execution_count": 15,
      "outputs": [
        {
          "output_type": "stream",
          "name": "stdout",
          "text": [
            "P(x)= 7= 0.0437\n",
            "Probabilidade toral (7 <= x <= 9): 0.0437 ou 4.3682%\n",
            "P(x)= 8= 0.0655\n",
            "Probabilidade toral (7 <= x <= 9): 0.1092 ou 10.9205%\n",
            "P(x)= 9= 0.0874\n",
            "Probabilidade toral (7 <= x <= 9): 0.1966 ou 19.6570%\n"
          ]
        }
      ]
    }
  ]
}