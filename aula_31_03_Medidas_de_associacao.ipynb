{
  "nbformat": 4,
  "nbformat_minor": 0,
  "metadata": {
    "colab": {
      "provenance": [],
      "include_colab_link": true
    },
    "kernelspec": {
      "name": "python3",
      "display_name": "Python 3"
    },
    "language_info": {
      "name": "python"
    }
  },
  "cells": [
    {
      "cell_type": "markdown",
      "metadata": {
        "id": "view-in-github",
        "colab_type": "text"
      },
      "source": [
        "<a href=\"https://colab.research.google.com/github/Pamelaevangelista/python/blob/main/aula_31_03_Medidas_de_associacao.ipynb\" target=\"_parent\"><img src=\"https://colab.research.google.com/assets/colab-badge.svg\" alt=\"Open In Colab\"/></a>"
      ]
    },
    {
      "cell_type": "code",
      "source": [
        "import statistics\n",
        "import numpy as np\n",
        "from scipy.stats import pearsonr"
      ],
      "metadata": {
        "id": "8XWd9pkupEC5"
      },
      "execution_count": null,
      "outputs": []
    },
    {
      "cell_type": "code",
      "execution_count": null,
      "metadata": {
        "colab": {
          "base_uri": "https://localhost:8080/"
        },
        "id": "GSl8Wna1myjH",
        "outputId": "5bd2c36f-6f65-4fc3-fc3d-8f47023afa19"
      },
      "outputs": [
        {
          "output_type": "stream",
          "name": "stdout",
          "text": [
            "Covariância: 0.25\n"
          ]
        }
      ],
      "source": [
        "'''Covariância: Mede a variabilidade conjunta entre duas variáveis.\n",
        "Valores positivos indicam que ambas  variam na mesma direção;\n",
        "negativos indicam direções opostas.\n",
        "'''\n",
        "import statistics\n",
        "x = [1, 2, 3, 4, 5]\n",
        "y = [1, 2, 3, 1, 2]\n",
        "\n",
        "covarianca = statistics.covariance(x, y)\n",
        "print(f'Covariância: {covarianca}')"
      ]
    },
    {
      "cell_type": "code",
      "source": [
        "'''Correlação de Pearson: Mede a relação linear entre duas variáveis. Varia entre -1 (correlação negativa perfeita)\n",
        "e +1 (correlação positiva perfeita).Ideal para dados contínuos e normalmente distribuídos'''\n",
        "'''Suponha que você deseja analisar a relação entre o peso da carga de um caminhão e o consumo\n",
        "de combustível.'''\n",
        "import numpy as np\n",
        "from scipy.stats import pearsonr\n",
        "\n",
        "peso_carga = np.array([10, 12, 8, 15, 11]) # x = peso da carga\n",
        "consumo_combustivel = np.array([250, 280, 220, 320, 270]) # y = consumo de combustível\n",
        "\n",
        "#cálculo da correlação de Pearson\n",
        "correlacao_coeficiente, p_valor = pearsonr(x, y)\n",
        "# correlacao = mede a força e a direção da relação linear entre as variáveis\n",
        "# p-valor testa hipótese para verificar se estão relacionadas ou não\n",
        "\n",
        "print(f'Coeficiente de Correlação de Pearson: {correlacao_coeficiente}')\n",
        "print(f'P-valor: {p_valor}')\n",
        "\n",
        "#Hipótese nula(H0): Não há diferença no consumo do combustível\n",
        "#Hipótese alternativa (H1): há diferença no consumo de combustível\n",
        "\n",
        "#interpretação - significância\n",
        "alpha = 0.05\n",
        "\n",
        "if p_valor < alpha:\n",
        "  print('Rejeitamos a hipótese nula: há diferença no consumo de combustível')\n",
        "else:\n",
        "  print('Não rejeitamos a hipótese nula: não há diferença no consumo de combustível')\n",
        "\n"
      ],
      "metadata": {
        "colab": {
          "base_uri": "https://localhost:8080/"
        },
        "id": "yTbI-SRhn9on",
        "outputId": "5604aeab-70f0-4640-af75-2c27b3d6b821"
      },
      "execution_count": null,
      "outputs": [
        {
          "output_type": "stream",
          "name": "stdout",
          "text": [
            "Coeficiente de Correlação de Pearson: 0.1889822365046136\n",
            "P-valor: 0.7608203755145106\n",
            "Não rejeitamos a hipótese nula: não há diferença no consumo de combustível\n"
          ]
        }
      ]
    }
  ]
}