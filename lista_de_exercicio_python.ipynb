{
  "nbformat": 4,
  "nbformat_minor": 0,
  "metadata": {
    "colab": {
      "provenance": [],
      "authorship_tag": "ABX9TyM0YalRi40qlW915K2+uvLD",
      "include_colab_link": true
    },
    "kernelspec": {
      "name": "python3",
      "display_name": "Python 3"
    },
    "language_info": {
      "name": "python"
    }
  },
  "cells": [
    {
      "cell_type": "markdown",
      "metadata": {
        "id": "view-in-github",
        "colab_type": "text"
      },
      "source": [
        "<a href=\"https://colab.research.google.com/github/Pamelaevangelista/Banco_App/blob/master/lista_de_exercicio_python.ipynb\" target=\"_parent\"><img src=\"https://colab.research.google.com/assets/colab-badge.svg\" alt=\"Open In Colab\"/></a>"
      ]
    },
    {
      "cell_type": "code",
      "source": [
        "'''\n",
        "crie um programa que lê um valor de início e um valor de fim informados pelo\n",
        "usuário, exibindo em tela contagem dos números dentro desse intervalo.\n",
        "'''\n",
        "inicio = int(input(\"Informe o número inicial do intervalo: \"))\n",
        "fim = int(input(\"Informe o número final  do intervalo: \"))\n",
        "\n",
        "for i in range(inicio, fim + 1):\n",
        "  print(i)"
      ],
      "metadata": {
        "colab": {
          "base_uri": "https://localhost:8080/"
        },
        "id": "UXRngp_YSUa0",
        "outputId": "340b14e5-7e84-4dae-e7d6-edd42159c859"
      },
      "execution_count": 3,
      "outputs": [
        {
          "output_type": "stream",
          "name": "stdout",
          "text": [
            "Informe o número inicial do intervalo: 5\n",
            "Informe o número final  do intervalo: 6\n",
            "5\n",
            "6\n"
          ]
        }
      ]
    },
    {
      "cell_type": "code",
      "source": [
        "'''\n",
        "crie um programa que exibe em tela a tabuada de um determinado número fornecido\n",
        "pelos usuários:\n",
        "'''\n",
        "numero = int(input(\"Informe um número inteiro: \"))\n",
        "for i in range(1, 11):\n",
        "  print(f'{numero} x {i} = {numero * i}')"
      ],
      "metadata": {
        "colab": {
          "base_uri": "https://localhost:8080/"
        },
        "id": "pUnl4TRsTQD6",
        "outputId": "7671108c-b387-4c90-83b6-cdb34420894f"
      },
      "execution_count": 5,
      "outputs": [
        {
          "output_type": "stream",
          "name": "stdout",
          "text": [
            "Informe um número inteiro: 2\n",
            "2 x 1 = 2\n",
            "2 x 2 = 4\n",
            "2 x 3 = 6\n",
            "2 x 4 = 8\n",
            "2 x 5 = 10\n",
            "2 x 6 = 12\n",
            "2 x 7 = 14\n",
            "2 x 8 = 16\n",
            "2 x 9 = 18\n",
            "2 x 10 = 20\n"
          ]
        }
      ]
    },
    {
      "cell_type": "code",
      "source": [
        "'''\n",
        "crie um programa que pede ao usuário que o mesmo digie um número inteiro\n",
        "qualquer, em seguida retorne se esse número é primo ou não, caso não, retorne\n",
        "também quantas vezes esse número é divisivel:\n",
        "'''\n",
        "\n",
        "numero = int(input(\"Informe um número inteiro:\"))\n",
        "divisoes = 0\n",
        "\n",
        "for i in range(1, numero +1):\n",
        "  if numero % i == 0:\n",
        "    divisoes += 1\n",
        "\n",
        "if divisoes == 2:\n",
        "  print(f'O número {numero} é primo')\n",
        "else:\n",
        "  print(f'O número {numero} não é primo')\n",
        "  print(f'O número {numero} é divisivel {divisoes} vezes')"
      ],
      "metadata": {
        "colab": {
          "base_uri": "https://localhost:8080/"
        },
        "id": "HIpYp3e4VUsK",
        "outputId": "14f15ae1-3286-4dea-def2-41fe550d2fbb"
      },
      "execution_count": 6,
      "outputs": [
        {
          "output_type": "stream",
          "name": "stdout",
          "text": [
            "Informe um número inteiro:8\n",
            "O número 8 não é primo\n",
            "O número 8 é divisivel 4 vezes\n"
          ]
        }
      ]
    }
  ]
}