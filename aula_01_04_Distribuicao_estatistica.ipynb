{
  "nbformat": 4,
  "nbformat_minor": 0,
  "metadata": {
    "colab": {
      "provenance": [],
      "include_colab_link": true
    },
    "kernelspec": {
      "name": "python3",
      "display_name": "Python 3"
    },
    "language_info": {
      "name": "python"
    }
  },
  "cells": [
    {
      "cell_type": "markdown",
      "metadata": {
        "id": "view-in-github",
        "colab_type": "text"
      },
      "source": [
        "<a href=\"https://colab.research.google.com/github/Pamelaevangelista/python/blob/main/aula_01_04_Distribuicao_estatistica.ipynb\" target=\"_parent\"><img src=\"https://colab.research.google.com/assets/colab-badge.svg\" alt=\"Open In Colab\"/></a>"
      ]
    },
    {
      "cell_type": "code",
      "execution_count": null,
      "metadata": {
        "id": "DbKdrAWVUoyV"
      },
      "outputs": [],
      "source": [
        "'''Distribuição de probabilidade: descreve como os valores de uma variável estão distribuídos\n",
        "ao longo de um conjunto de valores possíveis\n",
        "Serve para entender se os valores são comuns ou incomuns e a calcular a probabilidade de ocorrer\n",
        "eventos específicos\n",
        "Distribuição Binomial: descreve a probabilidade de obter um determinado número de sucessos em um número\n",
        "fixo de tentativas independentes\n",
        "Ex.: Lançar uma moeda 5 vezes e querer saber a probabilidade de obter exatamente 3 caras. Calcular a\n",
        "probabilidade de sucesso\n",
        "\n",
        "Distribuição de Poisson: verifica eventos que ocorrem em um intervalo de tempo ou espaço fixo. Descreve\n",
        "a probabilidade de ocorrer um determinado número de eventos por PERÍODO.\n",
        "Ex.:Fresagem do robô; Call center: medir a probabilidade de um call center receber exatamente\n",
        "5 chamadas em uma hora\n",
        "\n",
        "Distribuição Normal/Gaussiana: é uma distribuição contínua simétrica em forma de sino. É utilizada para\n",
        "modelar fenômenos naturais. Ex.: probabilidade de uma pessoa ter entre 1,70 e 1,80 de altura\n",
        "dentro de uma população;peso, pressão sanguínea, etc\n",
        "'''"
      ]
    },
    {
      "cell_type": "code",
      "source": [
        "from scipy.stats import binom\n",
        "'''Sintaxe: binom.pmf(k , n, p)\n",
        "k: nº de sucessos que você quer calcular. Nº de vezes que o evento desejado ocorre\n",
        "em um determinado nº de tentativas\n",
        "n: nº total de tentativas ou experimentos. Cada tentativa tem dois resultados: sucesso ou falha\n",
        "p: é a probabilidade do sucesso em uma única tentativa. Valor entre 0 e 1,\n",
        "0: sucesso impossível\n",
        "1: sucesso garantido\n",
        "'''\n",
        "#Lançar uma moeda 5 vezes e querer saber a probabilidade de obter exatamente 3 caras.\n",
        "#Calcular a probabilidade de sucesso\n",
        "k = 3 #sucesso\n",
        "n = 5  #nº de tentativas\n",
        "p = 0.5  #probabilidade de sucesso\n",
        "\n",
        "#Função de Massa de Probabilidade (PMF)\n",
        "probabilidade = binom.pmf(k, n, p)\n",
        "print(f'A probabilidade de obter exatamente {k} caras em {n} lançamentos é de {probabilidade:.4f}')\n",
        "\n",
        "# Qual a probabilidade de obter no máximo 3 caras no contexto?\n",
        "# CDF: Função de Distribuição Cumulativa\n",
        "probabilidade_no_maximo = binom.cdf(k, n, p)\n",
        "print(f'Probabilidade de no máximo {k} sucessos: {probabilidade_no_maximo}')"
      ],
      "metadata": {
        "colab": {
          "base_uri": "https://localhost:8080/"
        },
        "id": "BUxvbkAxYUNo",
        "outputId": "6e3ccb0f-14dd-4411-b655-beb4c600b7bf"
      },
      "execution_count": null,
      "outputs": [
        {
          "output_type": "stream",
          "name": "stdout",
          "text": [
            "A probabilidade de obter exatamente 3 caras em 5 lançamentos é de 0.3125\n",
            "Probabilidade de no máximo 3 sucessos: 0.8125\n"
          ]
        }
      ]
    },
    {
      "cell_type": "code",
      "source": [
        "'''Em uma campanha de vendas, um vendedor realiza 3 visitas a clientes potenciais.\n",
        "A probabilidade de fechar uma venda em cada visita é de 30%. Qual é a probabilidade de\n",
        "não fechar nenhuma venda em todas as 3 visitas?'''\n",
        "k = 0 #sucesso\n",
        "n = 3  #nº de tentativas\n",
        "p =  0.3 #probabilidade de sucesso\n",
        "probabilidade_zero = binom.pmf(k,n,p)\n",
        "print(f'A probabilidade de 0 vendas em 3 visitas é: {probabilidade_zero:.3f}')"
      ],
      "metadata": {
        "colab": {
          "base_uri": "https://localhost:8080/"
        },
        "id": "VHY8zA1ReH2D",
        "outputId": "f6733c6c-7aaf-4ada-892b-22d15d581a60"
      },
      "execution_count": null,
      "outputs": [
        {
          "output_type": "stream",
          "name": "stdout",
          "text": [
            "A probabilidade de 0 vendas em 3 visitas é: 0.343\n"
          ]
        }
      ]
    },
    {
      "cell_type": "code",
      "source": [
        "def binomial ():\n",
        "  from scipy.stats import binom\n",
        "  p = float(input('Informe a probabilidade de sucesso em forma decimal (p): '))\n",
        "  n = int(input('Informe o número de tentativas (n): '))\n",
        "  k = int(input('Informe o valor necessário (k): '))\n",
        "  probabilidade = binom.pmf(k,n,p)\n",
        "  print(f'A probabilidade de {k} vendas em {n} visitas é de: {probabilidade:.3f} ou {probabilidade*100:.1f}%')"
      ],
      "metadata": {
        "id": "YTn9lZa1hHIn"
      },
      "execution_count": null,
      "outputs": []
    },
    {
      "cell_type": "code",
      "source": [
        "binomial()"
      ],
      "metadata": {
        "colab": {
          "base_uri": "https://localhost:8080/"
        },
        "id": "F36bO0opcNL3",
        "outputId": "937d64ba-4256-48d0-c152-8325c710aeee"
      },
      "execution_count": null,
      "outputs": [
        {
          "output_type": "stream",
          "name": "stdout",
          "text": [
            "Informe a probabilidade de sucesso em forma decimal (p): 0.3\n",
            "Informe o número de tentativas (n): 3\n",
            "Informe o valor necessário (k): 0\n",
            "A probabilidade de 0 vendas em 3 visitas é de: 0.343 ou 34.3%\n"
          ]
        }
      ]
    },
    {
      "cell_type": "code",
      "source": [
        "#num10 = (p**k)(((1-p)**(n-k)))\n",
        "import math\n",
        "pmf = math.comb(n, k) * (p **k) * ((1 - p) ** (n - k))\n",
        "print(pmf)"
      ],
      "metadata": {
        "colab": {
          "base_uri": "https://localhost:8080/"
        },
        "id": "rnVxIRt9nnQ5",
        "outputId": "f45c4046-2eb7-4c57-a074-2c8c38d67a8e"
      },
      "execution_count": null,
      "outputs": [
        {
          "output_type": "stream",
          "name": "stdout",
          "text": [
            "0.3429999999999999\n"
          ]
        }
      ]
    },
    {
      "cell_type": "code",
      "source": [
        "#Calcule a probabilidade de ao menos 2 vendas em 3 visitas\n",
        "# P(k>=2) = P(k=2) + P(k=3)\n",
        "p_maior_igual_2 = 1 - binom.cdf(1, 3, 0.3) #probabilidade de obter no máximo 1 sucesso\n",
        "print(f'{p_maior_igual_2:.3f}')"
      ],
      "metadata": {
        "colab": {
          "base_uri": "https://localhost:8080/"
        },
        "id": "PRHsmVEqqdnq",
        "outputId": "e36b1b59-34d0-4da2-d2b8-c4d60082bb0c"
      },
      "execution_count": null,
      "outputs": [
        {
          "output_type": "stream",
          "name": "stdout",
          "text": [
            "0.216\n"
          ]
        }
      ]
    },
    {
      "cell_type": "code",
      "source": [
        "# Calcule a probabilidade de no máximo 2 vendas\n",
        "#P(k <=2) = P(k+ 0) + P(k=1) + P(k=2)\n",
        "p_acumulado_2 = binom.cdf(2, 3, 0.3)\n",
        "print(f'{p_acumulado_2:.3f} ou {p_acumulado_2*100:.1f}%')"
      ],
      "metadata": {
        "colab": {
          "base_uri": "https://localhost:8080/"
        },
        "id": "GLLPkXLasUYj",
        "outputId": "b3802f9b-9a22-417c-ad7e-c12d3fb02170"
      },
      "execution_count": null,
      "outputs": [
        {
          "output_type": "stream",
          "name": "stdout",
          "text": [
            "0.973 ou 97.3%\n"
          ]
        }
      ]
    },
    {
      "cell_type": "code",
      "source": [
        "# Calcule a probabilidade de mais de 2 vendas\n",
        "# P (k >2) = P(k=3) ou 1 - P(k <=2)\n",
        "p_maior_2 = 1 - binom.cdf(2, 3, 0.3)\n",
        "print(f'{p_maior_2:.3f} ou {p_maior_2*100:.1f}%')\n",
        "# Calcule a probabilidade de exatamente 3 vendas\n",
        "\n",
        "sucesso = 3 #sucesso\n",
        "tentativa = 3  #nº de tentativas\n",
        "probabilidade_sucesso=  0.3 #probabilidade de sucesso\n",
        "p_vendas = binom.pmf(sucesso, tentativa, probabilidade_sucesso)\n",
        "print(f'A probabilidade de exatamente {sucesso} vendas é de: {p_vendas:.4f}')"
      ],
      "metadata": {
        "colab": {
          "base_uri": "https://localhost:8080/"
        },
        "id": "4XaQOwJ3tcL0",
        "outputId": "569d3866-6782-4982-c3a9-cba5481819dc"
      },
      "execution_count": null,
      "outputs": [
        {
          "output_type": "stream",
          "name": "stdout",
          "text": [
            "0.027 ou 2.7%\n",
            "A probabilidade de exatamente 3 vendas é de: 0.0270\n"
          ]
        }
      ]
    },
    {
      "cell_type": "code",
      "source": [
        "'''Um curso de treinamento aumenta a produtividade dos funcionários de uma certa empresa\n",
        "em 80% dos casos. Se dez funcionários são selecionados ao acaso para receber esse treinamento,\n",
        "encontre a probabilidade de: (segundo uma distribuição binomial)\n",
        "n = 10\n",
        "p= 0.8\n",
        "\n",
        "a) Exatamente sete funcionários aumentarem a produtividade; P(k = 7)\n",
        "\n",
        "b)Não mais que oito funcionários aumentarem a produtividade; P( k <= 8)\n",
        "\n",
        "c) Pelo menos três funcionários aumentarem a produtividade. P( k >= 3)\n",
        "'''\n",
        "# a)Exatamente sete funcionários aumentarem a produtividade; P(k = 7)\n",
        "n = 10\n",
        "p = 0.8\n",
        "sete_funcionarios_produtivos = binom.pmf(7, n, p)\n",
        "print(f'A probabilidade de sete funcionários aumentarem a produtividade após o curso é de: {sete_funcionarios_produtivos:.3f} ou {sete_funcionarios_produtivos*100:.1f}%')\n",
        "#b)Não mais que oito funcionários aumentarem a produtividade; P( k <= 8)\n",
        "oito_funcionarios_produtivos = binom.cdf(8, n, p)\n",
        "print(f'A probabilidade de oito funcionários aumentarem a produtividade após o curso é de: {oito_funcionarios_produtivos:.3f} ou {oito_funcionarios_produtivos*100:.1f}%')\n",
        "\n",
        "#c) Pelo menos três funcionários aumentarem a produtividade. P( k >= 3)\n",
        "pelo_menos_tres_funcionarios_produtivos = 1 - binom.cdf(2, n, p )\n",
        "print(f'A probabilidade de pelo menos três funcionários aumentarem a produtividade é de: {pelo_menos_tres_funcionarios_produtivos:.3f} ou {pelo_menos_tres_funcionarios_produtivos*100:.1f}%')\n",
        "\n",
        "#distribuição acumulada: probabilidade de que o número de sucessos seja menor ou igual a k"
      ],
      "metadata": {
        "colab": {
          "base_uri": "https://localhost:8080/"
        },
        "id": "EDhPpxpeufgw",
        "outputId": "2da67f41-6c07-4c9c-b076-9657b0f1b6d4"
      },
      "execution_count": null,
      "outputs": [
        {
          "output_type": "stream",
          "name": "stdout",
          "text": [
            "A probabilidade de sete funcionários aumentarem a produtividade após o curso é de: 0.201 ou 20.1%\n",
            "A probabilidade de oito funcionários aumentarem a produtividade após o curso é de: 0.624 ou 62.4%\n",
            "A probabilidade de pelo menos três funcionários aumentarem a produtividade é de: 1.000 ou 100.0%\n"
          ]
        }
      ]
    },
    {
      "cell_type": "code",
      "source": [
        "''' Muitas empresas usam uma técnica de controle de qualidade chamada de amostragem de aceitação para monitorar o\n",
        "carregamento de chegada de peças, matérias-primas e assim por diante. Na indústria eletrônica, as peças de componentes são\n",
        "comumente embarcadas pelos fornecedores em grandes lotes. A inspeção de uma amostra de n componentes pode ser vista como os n\n",
        "ensaios de um experimento binomial. O resultado de cada componente testado (ensaio) será aquele de que um componente é bom ou é defeituoso.\n",
        "A Reynolds Electronics aceita um lote de um determinado fornecedor se os componentes defeituosos em um lote não excedem 1%.\n",
        "Suponha uma amostra aleatória de cinco itens de um recente embarque tenha sido testada.\n",
        "\n",
        "a)   \tAssuma que 1% do embarque seja defeituoso. Calcule a probabilidade de que nenhum item na amostra seja defeituoso.\n",
        "b)  \tAssuma que 1% do embarque seja defeituoso. Calcule a probabilidade de que um item na amostra seja defeituoso.\n",
        "c)   \tQual é a probabilidade de se observar um item ou mais com defeito na amostra se 1% do embarque é defeituoso? '''\n",
        "'''n: Número de tentativas\n",
        "  p: probabilidade de sucesso\n",
        "  k: número de sucessos'''"
      ],
      "metadata": {
        "id": "8UJtbt3V3j8x"
      },
      "execution_count": null,
      "outputs": []
    }
  ]
}